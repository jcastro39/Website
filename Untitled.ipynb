{
 "cells": [
  {
   "cell_type": "code",
   "execution_count": 1,
   "metadata": {},
   "outputs": [],
   "source": [
    "def subsetsumElementCount(coins, total):\n",
    "    n = len(coins)\n",
    "\n",
    "    dp = [[0 for x in range(total+1)] for x in range(n)] \n",
    "        \n",
    "    for i in range(1, n): \n",
    "        dp[i][0] = 0\n",
    "\n",
    "    for i in range(1, total+1): \n",
    "        dp[0][i] = i\n",
    "\n",
    "    for i in range(1, n): \n",
    "        for j in range(1, total+1): \n",
    "            if j < coins[i]:\n",
    "                dp[i][j] = dp[i-1][j] \n",
    "            elif j == coins[i]:\n",
    "                dp[i][j] = 1\n",
    "            else:\n",
    "                dp[i][j] = min(dp[i-1][j], 1+dp[i][j-coins[i]])\n",
    "\n",
    "    return dp"
   ]
  },
  {
   "cell_type": "code",
   "execution_count": 29,
   "metadata": {},
   "outputs": [],
   "source": [
    "coins = [1,4,6,8,5]\n",
    "total = 12"
   ]
  },
  {
   "cell_type": "code",
   "execution_count": 30,
   "metadata": {},
   "outputs": [],
   "source": [
    "T = subsetsumElementCount(coins, total)"
   ]
  },
  {
   "cell_type": "code",
   "execution_count": 31,
   "metadata": {},
   "outputs": [
    {
     "data": {
      "text/plain": [
       "[[0, 1, 2, 3, 4, 5, 6, 7, 8, 9, 10, 11, 12],\n",
       " [0, 1, 2, 3, 1, 2, 3, 4, 2, 3, 4, 5, 3],\n",
       " [0, 1, 2, 3, 1, 2, 1, 2, 2, 3, 2, 3, 2],\n",
       " [0, 1, 2, 3, 1, 2, 1, 2, 1, 2, 2, 3, 2],\n",
       " [0, 1, 2, 3, 1, 1, 1, 2, 1, 2, 2, 2, 2]]"
      ]
     },
     "execution_count": 31,
     "metadata": {},
     "output_type": "execute_result"
    }
   ],
   "source": [
    "T"
   ]
  },
  {
   "cell_type": "code",
   "execution_count": 25,
   "metadata": {},
   "outputs": [],
   "source": [
    "def isSubsetSum(c, t): \n",
    "    n = len(c)\n",
    "    # The value of subset[i][j] will be  \n",
    "    # true if there is a \n",
    "    # subset of set[0..j-1] with sum equal to i \n",
    "    subset=([[False for i in range(t+1)]  \n",
    "            for i in range(n+1)]) \n",
    "      \n",
    "    # If sum is 0, then answer is true  \n",
    "    for i in range(n+1): \n",
    "        subset[i][0] = 1\n",
    "          \n",
    "        # If sum is not 0 and set is empty,  \n",
    "        # then answer is false  \n",
    "    for i in range(1,t+1): \n",
    "        subset[0][i]=0\n",
    "\n",
    "    # Fill the subset table in botton up manner \n",
    "    for i in range(1,n+1): \n",
    "        for j in range(1,t+1): \n",
    "            if j<c[i-1]: \n",
    "                subset[i][j] = subset[i-1][j] \n",
    "            if j>=c[i-1]: \n",
    "                subset[i][j] = (subset[i-1][j] or \n",
    "                               subset[i - 1][j-c[i-1]]) \n",
    "\n",
    "    # uncomment this code to print table  \n",
    "    # for i in range(n+1): \n",
    "    # for j in range(sum+1): \n",
    "    #     print (subset[i][j],end=\" \") \n",
    "    # print() \n",
    "    return subset#[n][t] "
   ]
  },
  {
   "cell_type": "code",
   "execution_count": 19,
   "metadata": {},
   "outputs": [
    {
     "data": {
      "text/plain": [
       "[[1, 0, 0, 0, 0, 0, 0, 0, 0, 0, 0, 0],\n",
       " [1, 1, 0, 0, 0, 0, 0, 0, 0, 0, 0, 0],\n",
       " [1, 1, 0, 0, 0, 1, 1, 0, 0, 0, 0, 0],\n",
       " [1, 1, 0, 0, 0, 1, 1, 1, 0, 0, 0, 1],\n",
       " [1, 1, 0, 0, 0, 1, 1, 1, 1, 1, 0, 1]]"
      ]
     },
     "execution_count": 19,
     "metadata": {},
     "output_type": "execute_result"
    }
   ],
   "source": [
    " isSubsetSum(coins, total)"
   ]
  },
  {
   "cell_type": "code",
   "execution_count": 34,
   "metadata": {},
   "outputs": [],
   "source": [
    "def minCost(cost, m, n): \n",
    "  \n",
    "    # Instead of following line, we can use int tc[m+1][n+1] or \n",
    "    # dynamically allocate memoery to save space. The following \n",
    "    # line is used to keep te program simple and make it working \n",
    "    # on all compilers. \n",
    "    tc = [[0 for x in range(n+1)] for x in range(m+1)] \n",
    "  \n",
    "    tc[0][0] = cost[0][0] \n",
    "  \n",
    "    # Initialize first column of total cost(tc) array \n",
    "    for i in range(1, m+1): \n",
    "        tc[i][0] = tc[i-1][0] + cost[i][0] \n",
    "  \n",
    "    # Initialize first row of tc array \n",
    "    for j in range(1, n+1): \n",
    "        tc[0][j] = tc[0][j-1] + cost[0][j] \n",
    "  \n",
    "    # Construct rest of the tc array \n",
    "    for i in range(1, m+1): \n",
    "        for j in range(1, n+1): \n",
    "            tc[i][j] = max(tc[i-1][j-1], tc[i-1][j], tc[i][j-1]) + cost[i][j] \n",
    "  \n",
    "    return tc"
   ]
  },
  {
   "cell_type": "code",
   "execution_count": 35,
   "metadata": {},
   "outputs": [
    {
     "data": {
      "text/plain": [
       "[[1, 3, 6], [5, 13, 15], [6, 18, 21]]"
      ]
     },
     "execution_count": 35,
     "metadata": {},
     "output_type": "execute_result"
    }
   ],
   "source": [
    "cost = [[1, 2, 3], \n",
    "        [4, 8, 2], \n",
    "        [1, 5, 3]] \n",
    "\n",
    "minCost(cost, 2, 2)"
   ]
  },
  {
   "cell_type": "code",
   "execution_count": null,
   "metadata": {},
   "outputs": [],
   "source": []
  },
  {
   "cell_type": "code",
   "execution_count": 51,
   "metadata": {},
   "outputs": [
    {
     "data": {
      "text/plain": [
       "[[1, 2, 3, 4], [0, 1, 2, 3], [0, 0, 1, 2], [0, 0, 0, 1]]"
      ]
     },
     "execution_count": 51,
     "metadata": {},
     "output_type": "execute_result"
    }
   ],
   "source": [
    "def lps(str): \n",
    "    n = len(str) \n",
    "  \n",
    "    # Create a table to store results of subproblems \n",
    "    L = [[0 for x in range(n)] for x in range(n)] \n",
    "  \n",
    "    # Strings of length 1 are palindrome of length 1 \n",
    "    for i in range(n): \n",
    "        L[i][i] = 1\n",
    "  \n",
    "    # Build the table. Note that the lower  \n",
    "    # diagonal values of table are \n",
    "    # useless and not filled in the process.  \n",
    "    # The values are filled in a \n",
    "    # manner similar to Matrix Chain  \n",
    "    # Multiplication DP solution (See \n",
    "    # https://www.geeksforgeeks.org/dynamic-programming-set-8-matrix-chain-multiplication/ \n",
    "    # cl is length of substring \n",
    "    for cl in range(2, n+1): \n",
    "        for i in range(n-cl+1): \n",
    "            j = i+cl-1\n",
    "            if str[i] == str[j] and cl == 2: \n",
    "                L[i][j] = 2\n",
    "            elif str[i] == str[j]: \n",
    "                L[i][j] = L[i+1][j-1] + 2\n",
    "            else: \n",
    "                L[i][j] = max(L[i][j-1], L[i+1][j]); \n",
    "  \n",
    "    return L\n",
    "  \n",
    "# Driver program to test above functions \n",
    "seq = \"eeee\"\n",
    "n = len(seq) \n",
    "lps(seq)\n",
    "  \n",
    "# This code is contributed by Bhavya Jain "
   ]
  },
  {
   "cell_type": "code",
   "execution_count": 58,
   "metadata": {},
   "outputs": [],
   "source": [
    "def fixed_point(a):\n",
    "    l, u = 0, len(a)\n",
    "\n",
    "    while l <= u:\n",
    "        m = (l + u) // 2\n",
    "        if m == a[m]:\n",
    "            return m\n",
    "        elif m > a[m]:\n",
    "            l = m + 1\n",
    "        else:\n",
    "            u = m - 1\n",
    "\n",
    "    return -1"
   ]
  },
  {
   "cell_type": "code",
   "execution_count": 59,
   "metadata": {},
   "outputs": [
    {
     "data": {
      "text/plain": [
       "5"
      ]
     },
     "execution_count": 59,
     "metadata": {},
     "output_type": "execute_result"
    }
   ],
   "source": [
    "fixed_point([-10, -5, -2, 2, 3, 5, 7, 10, 15, 25, 35, 78, 129])"
   ]
  },
  {
   "cell_type": "code",
   "execution_count": 64,
   "metadata": {},
   "outputs": [],
   "source": [
    "# calculate the maximum stolen value \n",
    "def maximize_loot(hval, n): \n",
    "    if n == 0: \n",
    "        return 0\n",
    "    if n == 1: \n",
    "        return hval[0] \n",
    "    if n == 2: \n",
    "        return max(hval[0], hval[1]) \n",
    "  \n",
    "    # dp[i] represent the maximum value stolen so \n",
    "    # for after reaching house i. \n",
    "    dp = [0]*n \n",
    "  \n",
    "    # Initialize the dp[0] and dp[1] \n",
    "    dp[0] = hval[0] \n",
    "    dp[1] = max(hval[0], hval[1]) \n",
    "      \n",
    "    # Fill remaining positions \n",
    "    for i in range(2, n): \n",
    "        dp[i] = max(hval[i]+dp[i-2], dp[i-1]) \n",
    "  \n",
    "    return dp[-1] "
   ]
  },
  {
   "cell_type": "code",
   "execution_count": 65,
   "metadata": {},
   "outputs": [],
   "source": [
    "hval = [6, 7, 1, 3, 8, 2, 4]\n",
    "n = len(hval) "
   ]
  },
  {
   "cell_type": "code",
   "execution_count": 66,
   "metadata": {},
   "outputs": [
    {
     "data": {
      "text/plain": [
       "19"
      ]
     },
     "execution_count": 66,
     "metadata": {},
     "output_type": "execute_result"
    }
   ],
   "source": [
    "maximize_loot(hval, n)"
   ]
  },
  {
   "cell_type": "code",
   "execution_count": null,
   "metadata": {},
   "outputs": [],
   "source": []
  }
 ],
 "metadata": {
  "kernelspec": {
   "display_name": "Python 3",
   "language": "python",
   "name": "python3"
  },
  "language_info": {
   "codemirror_mode": {
    "name": "ipython",
    "version": 3
   },
   "file_extension": ".py",
   "mimetype": "text/x-python",
   "name": "python",
   "nbconvert_exporter": "python",
   "pygments_lexer": "ipython3",
   "version": "3.7.3"
  }
 },
 "nbformat": 4,
 "nbformat_minor": 2
}
